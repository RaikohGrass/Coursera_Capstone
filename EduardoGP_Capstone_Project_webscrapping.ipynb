{
  "nbformat": 4,
  "nbformat_minor": 0,
  "metadata": {
    "colab": {
      "name": "EduardoGP_Capstone_Project.ipynb",
      "provenance": [],
      "collapsed_sections": [],
      "authorship_tag": "ABX9TyMPxwF0eyvQUMTKhdyyMzPL"
    },
    "kernelspec": {
      "name": "python3",
      "display_name": "Python 3"
    },
    "language_info": {
      "name": "python"
    }
  },
  "cells": [
    {
      "cell_type": "markdown",
      "metadata": {
        "id": "_bXbhUlE-Wa8"
      },
      "source": [
        "# CAPSTONE PROJECT - IBM Data Science Professional Certificate\n",
        "## Author: Eduardo Gaona P.\n",
        "\n",
        "This Jupyter notebook will serve as the main platform to solve all the tasks from the capstone project of the IBM Data Science Professional Certificate"
      ]
    },
    {
      "cell_type": "markdown",
      "metadata": {
        "id": "RxkPUb34nxMQ"
      },
      "source": [
        "## Importing the libraries"
      ]
    },
    {
      "cell_type": "code",
      "metadata": {
        "id": "44jom5Of-WOk"
      },
      "source": [
        "import pandas as pd\n",
        "import numpy as np\n",
        "from bs4 import BeautifulSoup\n",
        "import requests  # this module helps us to download a web page"
      ],
      "execution_count": 52,
      "outputs": []
    },
    {
      "cell_type": "markdown",
      "metadata": {
        "id": "CdVdIeF9n1oA"
      },
      "source": [
        "Setting the URL for the table and using \"request\" to get the http information of it"
      ]
    },
    {
      "cell_type": "code",
      "metadata": {
        "id": "pq42tPF1-zuM"
      },
      "source": [
        "url_wiki = 'https://en.wikipedia.org/wiki/List_of_postal_codes_of_Canada:_M'"
      ],
      "execution_count": 53,
      "outputs": []
    },
    {
      "cell_type": "markdown",
      "metadata": {
        "id": "yTdZfh7roNTa"
      },
      "source": [
        "Using BeautifulSoup to get the \"table\" object"
      ]
    },
    {
      "cell_type": "code",
      "metadata": {
        "id": "hAfdw-Py-30A"
      },
      "source": [
        "data  = requests.get(url_wiki).text\n",
        "soup = BeautifulSoup(data,\"html5lib\")\n",
        "tables = soup.find_all('table')[0] # in html table is represented by the tag <table>"
      ],
      "execution_count": 70,
      "outputs": []
    },
    {
      "cell_type": "markdown",
      "metadata": {
        "id": "1czWdxc_oTWw"
      },
      "source": [
        "Showing an example of an entry of the table"
      ]
    },
    {
      "cell_type": "code",
      "metadata": {
        "colab": {
          "base_uri": "https://localhost:8080/"
        },
        "id": "hkyOIEgtopjZ",
        "outputId": "3b6cfe25-d526-49be-965e-8768eb99d5a2"
      },
      "source": [
        "tables.find_all(\"td\")[54]"
      ],
      "execution_count": 74,
      "outputs": [
        {
          "output_type": "execute_result",
          "data": {
            "text/plain": [
              "<td style=\"vertical-align:top;\">\n",
              "<p>M1J<br/><span style=\"font-size:85%;\"><a href=\"/wiki/Scarborough,_Toronto\" title=\"Scarborough, Toronto\">Scarborough</a><br/>(<a href=\"/wiki/Scarborough_Village\" title=\"Scarborough Village\">Scarborough Village</a>)</span>\n",
              "</p>\n",
              "</td>"
            ]
          },
          "metadata": {
            "tags": []
          },
          "execution_count": 74
        }
      ]
    },
    {
      "cell_type": "code",
      "metadata": {
        "colab": {
          "base_uri": "https://localhost:8080/",
          "height": 35
        },
        "id": "sLGAY_zYps5p",
        "outputId": "5c2ce552-f23a-4e8e-8f95-cfa58c3dcc50"
      },
      "source": [
        "tables.find_all(\"td\")[54].text"
      ],
      "execution_count": 76,
      "outputs": [
        {
          "output_type": "execute_result",
          "data": {
            "application/vnd.google.colaboratory.intrinsic+json": {
              "type": "string"
            },
            "text/plain": [
              "'\\nM1JScarborough(Scarborough Village)\\n\\n'"
            ]
          },
          "metadata": {
            "tags": []
          },
          "execution_count": 76
        }
      ]
    },
    {
      "cell_type": "markdown",
      "metadata": {
        "id": "xymq4Hv0pzu4"
      },
      "source": [
        "Going through all the entries, extracting the text and forming the DataFrame"
      ]
    },
    {
      "cell_type": "code",
      "metadata": {
        "id": "IZABL8WvUlII",
        "colab": {
          "base_uri": "https://localhost:8080/",
          "height": 204
        },
        "outputId": "cc1f50ef-634b-4191-c289-5b4e4793af85"
      },
      "source": [
        "postal_codes = pd.DataFrame(columns=[\"PostalCode\", \"Borough\", \"Neighborhood\"])\n",
        "\n",
        "for PostalCode in tables.find_all(\"td\"):\n",
        "  if 'Not assigned' not in PostalCode.text:\n",
        "    Code = PostalCode.text.replace('\\n','')[0:3]\n",
        "    Borough = PostalCode.text.replace('\\n','')[3:PostalCode.text.replace('\\n','').find('(')]\n",
        "    Neighborhood = PostalCode.text.replace('\\n','')[PostalCode.text.replace('\\n','').find('(')+1:-1].replace(' / ',',')\n",
        "    postal_codes = postal_codes.append({\"PostalCode\":Code, \"Borough\":Borough, \"Neighborhood\":Neighborhood}, ignore_index=True)\n",
        "\n",
        "postal_codes.head()"
      ],
      "execution_count": 77,
      "outputs": [
        {
          "output_type": "execute_result",
          "data": {
            "text/html": [
              "<div>\n",
              "<style scoped>\n",
              "    .dataframe tbody tr th:only-of-type {\n",
              "        vertical-align: middle;\n",
              "    }\n",
              "\n",
              "    .dataframe tbody tr th {\n",
              "        vertical-align: top;\n",
              "    }\n",
              "\n",
              "    .dataframe thead th {\n",
              "        text-align: right;\n",
              "    }\n",
              "</style>\n",
              "<table border=\"1\" class=\"dataframe\">\n",
              "  <thead>\n",
              "    <tr style=\"text-align: right;\">\n",
              "      <th></th>\n",
              "      <th>PostalCode</th>\n",
              "      <th>Borough</th>\n",
              "      <th>Neighborhood</th>\n",
              "    </tr>\n",
              "  </thead>\n",
              "  <tbody>\n",
              "    <tr>\n",
              "      <th>0</th>\n",
              "      <td>M3A</td>\n",
              "      <td>North York</td>\n",
              "      <td>Parkwoods</td>\n",
              "    </tr>\n",
              "    <tr>\n",
              "      <th>1</th>\n",
              "      <td>M4A</td>\n",
              "      <td>North York</td>\n",
              "      <td>Victoria Village</td>\n",
              "    </tr>\n",
              "    <tr>\n",
              "      <th>2</th>\n",
              "      <td>M5A</td>\n",
              "      <td>Downtown Toronto</td>\n",
              "      <td>Regent Park,Harbourfront</td>\n",
              "    </tr>\n",
              "    <tr>\n",
              "      <th>3</th>\n",
              "      <td>M6A</td>\n",
              "      <td>North York</td>\n",
              "      <td>Lawrence Manor,Lawrence Heights</td>\n",
              "    </tr>\n",
              "    <tr>\n",
              "      <th>4</th>\n",
              "      <td>M7A</td>\n",
              "      <td>Queen's Park</td>\n",
              "      <td>Ontario Provincial Government</td>\n",
              "    </tr>\n",
              "  </tbody>\n",
              "</table>\n",
              "</div>"
            ],
            "text/plain": [
              "  PostalCode           Borough                     Neighborhood\n",
              "0        M3A        North York                        Parkwoods\n",
              "1        M4A        North York                 Victoria Village\n",
              "2        M5A  Downtown Toronto         Regent Park,Harbourfront\n",
              "3        M6A        North York  Lawrence Manor,Lawrence Heights\n",
              "4        M7A      Queen's Park    Ontario Provincial Government"
            ]
          },
          "metadata": {
            "tags": []
          },
          "execution_count": 77
        }
      ]
    },
    {
      "cell_type": "code",
      "metadata": {
        "colab": {
          "base_uri": "https://localhost:8080/",
          "height": 80
        },
        "id": "50v1noXcqCKw",
        "outputId": "f6760917-52b1-4d25-9cca-60ef796602a1"
      },
      "source": [
        "postal_codes[postal_codes['PostalCode'] == 'M5G']"
      ],
      "execution_count": 79,
      "outputs": [
        {
          "output_type": "execute_result",
          "data": {
            "text/html": [
              "<div>\n",
              "<style scoped>\n",
              "    .dataframe tbody tr th:only-of-type {\n",
              "        vertical-align: middle;\n",
              "    }\n",
              "\n",
              "    .dataframe tbody tr th {\n",
              "        vertical-align: top;\n",
              "    }\n",
              "\n",
              "    .dataframe thead th {\n",
              "        text-align: right;\n",
              "    }\n",
              "</style>\n",
              "<table border=\"1\" class=\"dataframe\">\n",
              "  <thead>\n",
              "    <tr style=\"text-align: right;\">\n",
              "      <th></th>\n",
              "      <th>PostalCode</th>\n",
              "      <th>Borough</th>\n",
              "      <th>Neighborhood</th>\n",
              "    </tr>\n",
              "  </thead>\n",
              "  <tbody>\n",
              "    <tr>\n",
              "      <th>24</th>\n",
              "      <td>M5G</td>\n",
              "      <td>Downtown Toronto</td>\n",
              "      <td>Central Bay Street</td>\n",
              "    </tr>\n",
              "  </tbody>\n",
              "</table>\n",
              "</div>"
            ],
            "text/plain": [
              "   PostalCode           Borough        Neighborhood\n",
              "24        M5G  Downtown Toronto  Central Bay Street"
            ]
          },
          "metadata": {
            "tags": []
          },
          "execution_count": 79
        }
      ]
    },
    {
      "cell_type": "code",
      "metadata": {
        "colab": {
          "base_uri": "https://localhost:8080/"
        },
        "id": "AOk2SvcRZ90g",
        "outputId": "a266f206-a663-4510-ca3e-d53976544649"
      },
      "source": [
        "postal_codes.shape"
      ],
      "execution_count": 78,
      "outputs": [
        {
          "output_type": "execute_result",
          "data": {
            "text/plain": [
              "(103, 3)"
            ]
          },
          "metadata": {
            "tags": []
          },
          "execution_count": 78
        }
      ]
    }
  ]
}